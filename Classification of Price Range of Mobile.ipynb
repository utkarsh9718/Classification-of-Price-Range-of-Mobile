{
 "cells": [
  {
   "cell_type": "markdown",
   "metadata": {},
   "source": [
    "# Classification of price range of mobile"
   ]
  },
  {
   "cell_type": "markdown",
   "metadata": {},
   "source": [
    "__Here we are using the Deep learning and many of the classification based machine learning algorithm to check their accuracy__"
   ]
  },
  {
   "cell_type": "markdown",
   "metadata": {},
   "source": [
    "### Using Deep Learning"
   ]
  },
  {
   "cell_type": "code",
   "execution_count": 1,
   "metadata": {},
   "outputs": [],
   "source": [
    "# Importing libraries\n",
    "import tensorflow as tf\n",
    "import pandas as pd\n",
    "import numpy as np\n",
    "from sklearn.model_selection import train_test_split\n",
    "from scipy.stats import zscore"
   ]
  },
  {
   "cell_type": "code",
   "execution_count": 2,
   "metadata": {},
   "outputs": [],
   "source": [
    "# Opening dataset\n",
    "dataset=pd.read_csv(r\"C:\\Users\\ASUS\\Downloads\\mobile-price-classification\\dataset.csv\")"
   ]
  },
  {
   "cell_type": "code",
   "execution_count": 3,
   "metadata": {
    "scrolled": true
   },
   "outputs": [
    {
     "data": {
      "text/html": [
       "<div>\n",
       "<style scoped>\n",
       "    .dataframe tbody tr th:only-of-type {\n",
       "        vertical-align: middle;\n",
       "    }\n",
       "\n",
       "    .dataframe tbody tr th {\n",
       "        vertical-align: top;\n",
       "    }\n",
       "\n",
       "    .dataframe thead th {\n",
       "        text-align: right;\n",
       "    }\n",
       "</style>\n",
       "<table border=\"1\" class=\"dataframe\">\n",
       "  <thead>\n",
       "    <tr style=\"text-align: right;\">\n",
       "      <th></th>\n",
       "      <th>battery_power</th>\n",
       "      <th>blue</th>\n",
       "      <th>clock_speed</th>\n",
       "      <th>dual_sim</th>\n",
       "      <th>fc</th>\n",
       "      <th>four_g</th>\n",
       "      <th>int_memory</th>\n",
       "      <th>m_dep</th>\n",
       "      <th>mobile_wt</th>\n",
       "      <th>n_cores</th>\n",
       "      <th>...</th>\n",
       "      <th>px_height</th>\n",
       "      <th>px_width</th>\n",
       "      <th>ram</th>\n",
       "      <th>sc_h</th>\n",
       "      <th>sc_w</th>\n",
       "      <th>talk_time</th>\n",
       "      <th>three_g</th>\n",
       "      <th>touch_screen</th>\n",
       "      <th>wifi</th>\n",
       "      <th>price_range</th>\n",
       "    </tr>\n",
       "  </thead>\n",
       "  <tbody>\n",
       "    <tr>\n",
       "      <th>0</th>\n",
       "      <td>842</td>\n",
       "      <td>0</td>\n",
       "      <td>2.2</td>\n",
       "      <td>0</td>\n",
       "      <td>1</td>\n",
       "      <td>0</td>\n",
       "      <td>7</td>\n",
       "      <td>0.6</td>\n",
       "      <td>188</td>\n",
       "      <td>2</td>\n",
       "      <td>...</td>\n",
       "      <td>20</td>\n",
       "      <td>756</td>\n",
       "      <td>2549</td>\n",
       "      <td>9</td>\n",
       "      <td>7</td>\n",
       "      <td>19</td>\n",
       "      <td>0</td>\n",
       "      <td>0</td>\n",
       "      <td>1</td>\n",
       "      <td>1</td>\n",
       "    </tr>\n",
       "    <tr>\n",
       "      <th>1</th>\n",
       "      <td>1021</td>\n",
       "      <td>1</td>\n",
       "      <td>0.5</td>\n",
       "      <td>1</td>\n",
       "      <td>0</td>\n",
       "      <td>1</td>\n",
       "      <td>53</td>\n",
       "      <td>0.7</td>\n",
       "      <td>136</td>\n",
       "      <td>3</td>\n",
       "      <td>...</td>\n",
       "      <td>905</td>\n",
       "      <td>1988</td>\n",
       "      <td>2631</td>\n",
       "      <td>17</td>\n",
       "      <td>3</td>\n",
       "      <td>7</td>\n",
       "      <td>1</td>\n",
       "      <td>1</td>\n",
       "      <td>0</td>\n",
       "      <td>2</td>\n",
       "    </tr>\n",
       "    <tr>\n",
       "      <th>2</th>\n",
       "      <td>563</td>\n",
       "      <td>1</td>\n",
       "      <td>0.5</td>\n",
       "      <td>1</td>\n",
       "      <td>2</td>\n",
       "      <td>1</td>\n",
       "      <td>41</td>\n",
       "      <td>0.9</td>\n",
       "      <td>145</td>\n",
       "      <td>5</td>\n",
       "      <td>...</td>\n",
       "      <td>1263</td>\n",
       "      <td>1716</td>\n",
       "      <td>2603</td>\n",
       "      <td>11</td>\n",
       "      <td>2</td>\n",
       "      <td>9</td>\n",
       "      <td>1</td>\n",
       "      <td>1</td>\n",
       "      <td>0</td>\n",
       "      <td>2</td>\n",
       "    </tr>\n",
       "    <tr>\n",
       "      <th>3</th>\n",
       "      <td>615</td>\n",
       "      <td>1</td>\n",
       "      <td>2.5</td>\n",
       "      <td>0</td>\n",
       "      <td>0</td>\n",
       "      <td>0</td>\n",
       "      <td>10</td>\n",
       "      <td>0.8</td>\n",
       "      <td>131</td>\n",
       "      <td>6</td>\n",
       "      <td>...</td>\n",
       "      <td>1216</td>\n",
       "      <td>1786</td>\n",
       "      <td>2769</td>\n",
       "      <td>16</td>\n",
       "      <td>8</td>\n",
       "      <td>11</td>\n",
       "      <td>1</td>\n",
       "      <td>0</td>\n",
       "      <td>0</td>\n",
       "      <td>2</td>\n",
       "    </tr>\n",
       "    <tr>\n",
       "      <th>4</th>\n",
       "      <td>1821</td>\n",
       "      <td>1</td>\n",
       "      <td>1.2</td>\n",
       "      <td>0</td>\n",
       "      <td>13</td>\n",
       "      <td>1</td>\n",
       "      <td>44</td>\n",
       "      <td>0.6</td>\n",
       "      <td>141</td>\n",
       "      <td>2</td>\n",
       "      <td>...</td>\n",
       "      <td>1208</td>\n",
       "      <td>1212</td>\n",
       "      <td>1411</td>\n",
       "      <td>8</td>\n",
       "      <td>2</td>\n",
       "      <td>15</td>\n",
       "      <td>1</td>\n",
       "      <td>1</td>\n",
       "      <td>0</td>\n",
       "      <td>1</td>\n",
       "    </tr>\n",
       "  </tbody>\n",
       "</table>\n",
       "<p>5 rows × 21 columns</p>\n",
       "</div>"
      ],
      "text/plain": [
       "   battery_power  blue  clock_speed  dual_sim  fc  four_g  int_memory  m_dep  \\\n",
       "0            842     0          2.2         0   1       0           7    0.6   \n",
       "1           1021     1          0.5         1   0       1          53    0.7   \n",
       "2            563     1          0.5         1   2       1          41    0.9   \n",
       "3            615     1          2.5         0   0       0          10    0.8   \n",
       "4           1821     1          1.2         0  13       1          44    0.6   \n",
       "\n",
       "   mobile_wt  n_cores  ...  px_height  px_width   ram  sc_h  sc_w  talk_time  \\\n",
       "0        188        2  ...         20       756  2549     9     7         19   \n",
       "1        136        3  ...        905      1988  2631    17     3          7   \n",
       "2        145        5  ...       1263      1716  2603    11     2          9   \n",
       "3        131        6  ...       1216      1786  2769    16     8         11   \n",
       "4        141        2  ...       1208      1212  1411     8     2         15   \n",
       "\n",
       "   three_g  touch_screen  wifi  price_range  \n",
       "0        0             0     1            1  \n",
       "1        1             1     0            2  \n",
       "2        1             1     0            2  \n",
       "3        1             0     0            2  \n",
       "4        1             1     0            1  \n",
       "\n",
       "[5 rows x 21 columns]"
      ]
     },
     "execution_count": 3,
     "metadata": {},
     "output_type": "execute_result"
    }
   ],
   "source": [
    "dataset.head()"
   ]
  },
  {
   "cell_type": "code",
   "execution_count": 4,
   "metadata": {},
   "outputs": [
    {
     "data": {
      "text/plain": [
       "array([1, 2, 3, 0], dtype=int64)"
      ]
     },
     "execution_count": 4,
     "metadata": {},
     "output_type": "execute_result"
    }
   ],
   "source": [
    "# Printing unique values of price ranges\n",
    "dataset.price_range.unique()"
   ]
  },
  {
   "cell_type": "code",
   "execution_count": 5,
   "metadata": {},
   "outputs": [
    {
     "data": {
      "text/plain": [
       "(2000, 20)"
      ]
     },
     "execution_count": 5,
     "metadata": {},
     "output_type": "execute_result"
    }
   ],
   "source": [
    "x_train=dataset.drop(\"price_range\",axis=1)\n",
    "x_train=np.array(x_train)\n",
    "x_train.shape"
   ]
  },
  {
   "cell_type": "code",
   "execution_count": 6,
   "metadata": {},
   "outputs": [
    {
     "data": {
      "text/plain": [
       "(2000,)"
      ]
     },
     "execution_count": 6,
     "metadata": {},
     "output_type": "execute_result"
    }
   ],
   "source": [
    "y_train=dataset['price_range']\n",
    "y_train=np.array(y_train)\n",
    "y_train.shape"
   ]
  },
  {
   "cell_type": "code",
   "execution_count": 7,
   "metadata": {},
   "outputs": [
    {
     "name": "stdout",
     "output_type": "stream",
     "text": [
      "[8.420e+02 0.000e+00 2.200e+00 0.000e+00 1.000e+00 0.000e+00 7.000e+00\n",
      " 6.000e-01 1.880e+02 2.000e+00 2.000e+00 2.000e+01 7.560e+02 2.549e+03\n",
      " 9.000e+00 7.000e+00 1.900e+01 0.000e+00 0.000e+00 1.000e+00]\n"
     ]
    }
   ],
   "source": [
    "print(x_train[0])"
   ]
  },
  {
   "cell_type": "code",
   "execution_count": 8,
   "metadata": {},
   "outputs": [],
   "source": [
    "# Splitting dataset\n",
    "xtr,xte,ytr,yte=train_test_split(x_train,y_train,test_size=0.1,random_state=39)"
   ]
  },
  {
   "cell_type": "code",
   "execution_count": 9,
   "metadata": {},
   "outputs": [
    {
     "name": "stdout",
     "output_type": "stream",
     "text": [
      "(1800, 20) (1800,) (200, 20) (200,)\n"
     ]
    }
   ],
   "source": [
    "# Normalizing data\n",
    "print(xtr.shape,ytr.shape,xte.shape,yte.shape)\n",
    "xtr,xte=xtr/5000,xte/5000"
   ]
  },
  {
   "cell_type": "code",
   "execution_count": 10,
   "metadata": {},
   "outputs": [
    {
     "data": {
      "text/plain": [
       "array([1.662e-01, 0.000e+00, 4.800e-04, 0.000e+00, 2.000e-03, 0.000e+00,\n",
       "       1.100e-02, 1.000e-04, 1.720e-02, 1.200e-03, 2.400e-03, 3.440e-02,\n",
       "       2.478e-01, 2.150e-01, 2.400e-03, 2.200e-03, 6.000e-04, 2.000e-04,\n",
       "       2.000e-04, 0.000e+00])"
      ]
     },
     "execution_count": 10,
     "metadata": {},
     "output_type": "execute_result"
    }
   ],
   "source": [
    "xtr[1]"
   ]
  },
  {
   "cell_type": "code",
   "execution_count": 11,
   "metadata": {},
   "outputs": [],
   "source": [
    "# Preparing model\n",
    "model=tf.keras.Sequential([tf.keras.layers.Dense(8,activation=tf.nn.relu),\n",
    "                           tf.keras.layers.Dense(64,activation=tf.nn.relu),\n",
    "                           tf.keras.layers.Dense(128,activation=tf.nn.relu),\n",
    "                           tf.keras.layers.Dense(4,activation=tf.nn.softmax)])\n",
    "model.compile(optimiser=\"adam\",loss='sparse_categorical_crossentropy',metrics=['accuracy'])"
   ]
  },
  {
   "cell_type": "code",
   "execution_count": 12,
   "metadata": {},
   "outputs": [],
   "source": [
    "# Preparing callback to avoid unnecessary epochs\n",
    "class myCallback(tf.keras.callbacks.Callback):\n",
    "    def end_of_epoch(self,epoch,logs={}):\n",
    "        if logs.get('accuracy')>0.90:\n",
    "            self.model.stop_training=True\n",
    "callbacks=myCallback()"
   ]
  },
  {
   "cell_type": "code",
   "execution_count": 13,
   "metadata": {
    "scrolled": true
   },
   "outputs": [
    {
     "name": "stdout",
     "output_type": "stream",
     "text": [
      "Train on 1800 samples\n",
      "Epoch 1/100\n",
      "1800/1800 [==============================] - 1s 669us/sample - loss: 1.2688 - accuracy: 0.4717\n",
      "Epoch 2/100\n",
      "1800/1800 [==============================] - 0s 113us/sample - loss: 0.9490 - accuracy: 0.5922 - loss: 1.0093 - accuracy: 0.\n",
      "Epoch 3/100\n",
      "1800/1800 [==============================] - 0s 113us/sample - loss: 0.7551 - accuracy: 0.6883\n",
      "Epoch 4/100\n",
      "1800/1800 [==============================] - 0s 116us/sample - loss: 0.6141 - accuracy: 0.7506\n",
      "Epoch 5/100\n",
      "1800/1800 [==============================] - 0s 116us/sample - loss: 0.5060 - accuracy: 0.8061\n",
      "Epoch 6/100\n",
      "1800/1800 [==============================] - 0s 113us/sample - loss: 0.4083 - accuracy: 0.8494\n",
      "Epoch 7/100\n",
      "1800/1800 [==============================] - 0s 113us/sample - loss: 0.3344 - accuracy: 0.8889\n",
      "Epoch 8/100\n",
      "1800/1800 [==============================] - 0s 110us/sample - loss: 0.2813 - accuracy: 0.9078\n",
      "Epoch 9/100\n",
      "1800/1800 [==============================] - 0s 110us/sample - loss: 0.2366 - accuracy: 0.9300\n",
      "Epoch 10/100\n",
      "1800/1800 [==============================] - 0s 112us/sample - loss: 0.2148 - accuracy: 0.9356\n",
      "Epoch 11/100\n",
      "1800/1800 [==============================] - 0s 113us/sample - loss: 0.1900 - accuracy: 0.9483\n",
      "Epoch 12/100\n",
      "1800/1800 [==============================] - 0s 110us/sample - loss: 0.1770 - accuracy: 0.9406\n",
      "Epoch 13/100\n",
      "1800/1800 [==============================] - 0s 114us/sample - loss: 0.1659 - accuracy: 0.9500\n",
      "Epoch 14/100\n",
      "1800/1800 [==============================] - 0s 118us/sample - loss: 0.1582 - accuracy: 0.9444\n",
      "Epoch 15/100\n",
      "1800/1800 [==============================] - 0s 116us/sample - loss: 0.1480 - accuracy: 0.9494\n",
      "Epoch 16/100\n",
      "1800/1800 [==============================] - 0s 113us/sample - loss: 0.1466 - accuracy: 0.9494\n",
      "Epoch 17/100\n",
      "1800/1800 [==============================] - 0s 113us/sample - loss: 0.1416 - accuracy: 0.9467\n",
      "Epoch 18/100\n",
      "1800/1800 [==============================] - 0s 113us/sample - loss: 0.1335 - accuracy: 0.9517\n",
      "Epoch 19/100\n",
      "1800/1800 [==============================] - 0s 116us/sample - loss: 0.1307 - accuracy: 0.9511\n",
      "Epoch 20/100\n",
      "1800/1800 [==============================] - 0s 111us/sample - loss: 0.1272 - accuracy: 0.9439\n",
      "Epoch 21/100\n",
      "1800/1800 [==============================] - 0s 116us/sample - loss: 0.1207 - accuracy: 0.9550\n",
      "Epoch 22/100\n",
      "1800/1800 [==============================] - 0s 114us/sample - loss: 0.1197 - accuracy: 0.9556\n",
      "Epoch 23/100\n",
      "1800/1800 [==============================] - 0s 114us/sample - loss: 0.1124 - accuracy: 0.9594\n",
      "Epoch 24/100\n",
      "1800/1800 [==============================] - 0s 119us/sample - loss: 0.1159 - accuracy: 0.9561\n",
      "Epoch 25/100\n",
      "1800/1800 [==============================] - 0s 120us/sample - loss: 0.1098 - accuracy: 0.9583\n",
      "Epoch 26/100\n",
      "1800/1800 [==============================] - 0s 116us/sample - loss: 0.1109 - accuracy: 0.9600\n",
      "Epoch 27/100\n",
      "1800/1800 [==============================] - 0s 114us/sample - loss: 0.1125 - accuracy: 0.9572\n",
      "Epoch 28/100\n",
      "1800/1800 [==============================] - 0s 118us/sample - loss: 0.1068 - accuracy: 0.9572\n",
      "Epoch 29/100\n",
      "1800/1800 [==============================] - 0s 116us/sample - loss: 0.0987 - accuracy: 0.9639\n",
      "Epoch 30/100\n",
      "1800/1800 [==============================] - 0s 116us/sample - loss: 0.1062 - accuracy: 0.9567\n",
      "Epoch 31/100\n",
      "1800/1800 [==============================] - 0s 113us/sample - loss: 0.1019 - accuracy: 0.9594\n",
      "Epoch 32/100\n",
      "1800/1800 [==============================] - 0s 118us/sample - loss: 0.0993 - accuracy: 0.9606\n",
      "Epoch 33/100\n",
      "1800/1800 [==============================] - 0s 123us/sample - loss: 0.0990 - accuracy: 0.9578\n",
      "Epoch 34/100\n",
      "1800/1800 [==============================] - 0s 127us/sample - loss: 0.1044 - accuracy: 0.9506\n",
      "Epoch 35/100\n",
      "1800/1800 [==============================] - 0s 116us/sample - loss: 0.1012 - accuracy: 0.9606\n",
      "Epoch 36/100\n",
      "1800/1800 [==============================] - 0s 111us/sample - loss: 0.0976 - accuracy: 0.9611\n",
      "Epoch 37/100\n",
      "1800/1800 [==============================] - 0s 111us/sample - loss: 0.0979 - accuracy: 0.9600\n",
      "Epoch 38/100\n",
      "1800/1800 [==============================] - 0s 116us/sample - loss: 0.0971 - accuracy: 0.9600\n",
      "Epoch 39/100\n",
      "1800/1800 [==============================] - 0s 109us/sample - loss: 0.0949 - accuracy: 0.9594\n",
      "Epoch 40/100\n",
      "1800/1800 [==============================] - 0s 122us/sample - loss: 0.0967 - accuracy: 0.9550\n",
      "Epoch 41/100\n",
      "1800/1800 [==============================] - 0s 120us/sample - loss: 0.0834 - accuracy: 0.9644\n",
      "Epoch 42/100\n",
      "1800/1800 [==============================] - 0s 114us/sample - loss: 0.0932 - accuracy: 0.9594\n",
      "Epoch 43/100\n",
      "1800/1800 [==============================] - 0s 133us/sample - loss: 0.0910 - accuracy: 0.9583\n",
      "Epoch 44/100\n",
      "1800/1800 [==============================] - 0s 131us/sample - loss: 0.0906 - accuracy: 0.9628\n",
      "Epoch 45/100\n",
      "1800/1800 [==============================] - 0s 118us/sample - loss: 0.0895 - accuracy: 0.9589\n",
      "Epoch 46/100\n",
      "1800/1800 [==============================] - 0s 131us/sample - loss: 0.0908 - accuracy: 0.9578\n",
      "Epoch 47/100\n",
      "1800/1800 [==============================] - 0s 116us/sample - loss: 0.0874 - accuracy: 0.9611\n",
      "Epoch 48/100\n",
      "1800/1800 [==============================] - 0s 105us/sample - loss: 0.0905 - accuracy: 0.9617\n",
      "Epoch 49/100\n",
      "1800/1800 [==============================] - 0s 111us/sample - loss: 0.0871 - accuracy: 0.9628\n",
      "Epoch 50/100\n",
      "1800/1800 [==============================] - 0s 109us/sample - loss: 0.0902 - accuracy: 0.9644\n",
      "Epoch 51/100\n",
      "1800/1800 [==============================] - 0s 109us/sample - loss: 0.0891 - accuracy: 0.9589\n",
      "Epoch 52/100\n",
      "1800/1800 [==============================] - 0s 111us/sample - loss: 0.0841 - accuracy: 0.9667\n",
      "Epoch 53/100\n",
      "1800/1800 [==============================] - 0s 113us/sample - loss: 0.0796 - accuracy: 0.9672\n",
      "Epoch 54/100\n",
      "1800/1800 [==============================] - 0s 111us/sample - loss: 0.0828 - accuracy: 0.9678\n",
      "Epoch 55/100\n",
      "1800/1800 [==============================] - 0s 111us/sample - loss: 0.0784 - accuracy: 0.9661\n",
      "Epoch 56/100\n",
      "1800/1800 [==============================] - 0s 109us/sample - loss: 0.0844 - accuracy: 0.9617\n",
      "Epoch 57/100\n",
      "1800/1800 [==============================] - 0s 114us/sample - loss: 0.0831 - accuracy: 0.9656\n",
      "Epoch 58/100\n",
      "1800/1800 [==============================] - 0s 112us/sample - loss: 0.0858 - accuracy: 0.9667\n",
      "Epoch 59/100\n",
      "1800/1800 [==============================] - 0s 122us/sample - loss: 0.0889 - accuracy: 0.9589\n",
      "Epoch 60/100\n",
      "1800/1800 [==============================] - 0s 127us/sample - loss: 0.0799 - accuracy: 0.9678\n",
      "Epoch 61/100\n",
      "1800/1800 [==============================] - 0s 117us/sample - loss: 0.0817 - accuracy: 0.9650\n",
      "Epoch 62/100\n",
      "1800/1800 [==============================] - 0s 110us/sample - loss: 0.0788 - accuracy: 0.9689\n",
      "Epoch 63/100\n",
      "1800/1800 [==============================] - 0s 112us/sample - loss: 0.0800 - accuracy: 0.9633\n",
      "Epoch 64/100\n",
      "1800/1800 [==============================] - 0s 110us/sample - loss: 0.0779 - accuracy: 0.9644\n",
      "Epoch 65/100\n",
      "1800/1800 [==============================] - 0s 113us/sample - loss: 0.0825 - accuracy: 0.9633\n",
      "Epoch 66/100\n",
      "1800/1800 [==============================] - 0s 109us/sample - loss: 0.0856 - accuracy: 0.9606\n",
      "Epoch 67/100\n",
      "1800/1800 [==============================] - 0s 109us/sample - loss: 0.0736 - accuracy: 0.9733\n",
      "Epoch 68/100\n",
      "1800/1800 [==============================] - 0s 112us/sample - loss: 0.0767 - accuracy: 0.9661\n",
      "Epoch 69/100\n",
      "1800/1800 [==============================] - 0s 130us/sample - loss: 0.0825 - accuracy: 0.9683\n",
      "Epoch 70/100\n",
      "1800/1800 [==============================] - 0s 136us/sample - loss: 0.0766 - accuracy: 0.9694\n",
      "Epoch 71/100\n",
      "1800/1800 [==============================] - 0s 118us/sample - loss: 0.0836 - accuracy: 0.9667\n",
      "Epoch 72/100\n",
      "1800/1800 [==============================] - 0s 133us/sample - loss: 0.0803 - accuracy: 0.9661\n",
      "Epoch 73/100\n",
      "1800/1800 [==============================] - 0s 131us/sample - loss: 0.0822 - accuracy: 0.9594\n",
      "Epoch 74/100\n",
      "1800/1800 [==============================] - 0s 131us/sample - loss: 0.0825 - accuracy: 0.9644\n",
      "Epoch 75/100\n",
      "1800/1800 [==============================] - 0s 122us/sample - loss: 0.0865 - accuracy: 0.9633\n",
      "Epoch 76/100\n"
     ]
    },
    {
     "name": "stdout",
     "output_type": "stream",
     "text": [
      "1800/1800 [==============================] - 0s 136us/sample - loss: 0.0801 - accuracy: 0.9633\n",
      "Epoch 77/100\n",
      "1800/1800 [==============================] - 0s 136us/sample - loss: 0.0758 - accuracy: 0.9683\n",
      "Epoch 78/100\n",
      "1800/1800 [==============================] - 0s 113us/sample - loss: 0.0758 - accuracy: 0.9667\n",
      "Epoch 79/100\n",
      "1800/1800 [==============================] - 0s 107us/sample - loss: 0.0840 - accuracy: 0.9644\n",
      "Epoch 80/100\n",
      "1800/1800 [==============================] - 0s 107us/sample - loss: 0.0735 - accuracy: 0.9661\n",
      "Epoch 81/100\n",
      "1800/1800 [==============================] - 0s 109us/sample - loss: 0.0835 - accuracy: 0.9639\n",
      "Epoch 82/100\n",
      "1800/1800 [==============================] - 0s 109us/sample - loss: 0.0725 - accuracy: 0.9689\n",
      "Epoch 83/100\n",
      "1800/1800 [==============================] - 0s 109us/sample - loss: 0.0750 - accuracy: 0.9672\n",
      "Epoch 84/100\n",
      "1800/1800 [==============================] - 0s 113us/sample - loss: 0.0714 - accuracy: 0.9683\n",
      "Epoch 85/100\n",
      "1800/1800 [==============================] - 0s 116us/sample - loss: 0.0777 - accuracy: 0.9656\n",
      "Epoch 86/100\n",
      "1800/1800 [==============================] - 0s 125us/sample - loss: 0.0703 - accuracy: 0.9661\n",
      "Epoch 87/100\n",
      "1800/1800 [==============================] - 0s 132us/sample - loss: 0.0775 - accuracy: 0.9639\n",
      "Epoch 88/100\n",
      "1800/1800 [==============================] - 0s 133us/sample - loss: 0.0752 - accuracy: 0.9622\n",
      "Epoch 89/100\n",
      "1800/1800 [==============================] - 0s 131us/sample - loss: 0.0822 - accuracy: 0.9639\n",
      "Epoch 90/100\n",
      "1800/1800 [==============================] - 0s 131us/sample - loss: 0.0757 - accuracy: 0.9700\n",
      "Epoch 91/100\n",
      "1800/1800 [==============================] - 0s 156us/sample - loss: 0.0804 - accuracy: 0.9644\n",
      "Epoch 92/100\n",
      "1800/1800 [==============================] - 0s 160us/sample - loss: 0.0762 - accuracy: 0.9639\n",
      "Epoch 93/100\n",
      "1800/1800 [==============================] - 0s 162us/sample - loss: 0.0698 - accuracy: 0.9744\n",
      "Epoch 94/100\n",
      "1800/1800 [==============================] - 0s 160us/sample - loss: 0.0822 - accuracy: 0.9683\n",
      "Epoch 95/100\n",
      "1800/1800 [==============================] - 0s 153us/sample - loss: 0.0687 - accuracy: 0.9672\n",
      "Epoch 96/100\n",
      "1800/1800 [==============================] - 0s 144us/sample - loss: 0.0854 - accuracy: 0.9600\n",
      "Epoch 97/100\n",
      "1800/1800 [==============================] - 0s 151us/sample - loss: 0.0709 - accuracy: 0.9739\n",
      "Epoch 98/100\n",
      "1800/1800 [==============================] - 0s 153us/sample - loss: 0.0753 - accuracy: 0.9678\n",
      "Epoch 99/100\n",
      "1800/1800 [==============================] - 0s 140us/sample - loss: 0.0753 - accuracy: 0.9667\n",
      "Epoch 100/100\n",
      "1800/1800 [==============================] - 0s 133us/sample - loss: 0.0775 - accuracy: 0.9672\n"
     ]
    },
    {
     "data": {
      "text/plain": [
       "<tensorflow.python.keras.callbacks.History at 0x227c9bd2948>"
      ]
     },
     "execution_count": 13,
     "metadata": {},
     "output_type": "execute_result"
    }
   ],
   "source": [
    "# Fitting model\n",
    "model.fit(xtr,ytr,epochs=100,callbacks=[callbacks])"
   ]
  },
  {
   "cell_type": "code",
   "execution_count": 14,
   "metadata": {
    "scrolled": true
   },
   "outputs": [
    {
     "name": "stdout",
     "output_type": "stream",
     "text": [
      "Loss : 0.04141779281198978\n",
      "Accuracy : 98.50000143051147%\n"
     ]
    }
   ],
   "source": [
    "# Predicting result on testing data\n",
    "result=model.evaluate(xte,yte,verbose=0)\n",
    "print(\"Loss :\",result[0])\n",
    "print(\"Accuracy : \"+str(result[1]*100)+\"%\")"
   ]
  },
  {
   "cell_type": "markdown",
   "metadata": {},
   "source": [
    "### Using all Machine Learning classification algorithm"
   ]
  },
  {
   "cell_type": "code",
   "execution_count": 15,
   "metadata": {},
   "outputs": [],
   "source": [
    "# importing libraries\n",
    "import pandas as pd\n",
    "from pandas.plotting import scatter_matrix\n",
    "import matplotlib.pyplot as plt\n",
    "from sklearn import model_selection\n",
    "from sklearn.metrics import classification_report\n",
    "from sklearn.metrics import confusion_matrix\n",
    "from sklearn.metrics import accuracy_score\n",
    "from sklearn.linear_model import LogisticRegression\n",
    "from sklearn.tree import DecisionTreeClassifier\n",
    "from sklearn.neighbors import KNeighborsClassifier\n",
    "from sklearn.discriminant_analysis import LinearDiscriminantAnalysis\n",
    "from sklearn.naive_bayes import GaussianNB\n",
    "from sklearn.svm import SVC"
   ]
  },
  {
   "cell_type": "code",
   "execution_count": 16,
   "metadata": {},
   "outputs": [],
   "source": [
    "#Improting dataset\n",
    "dataset=pd.read_csv(r\"C:\\Users\\ASUS\\Downloads\\mobile-price-classification\\dataset.csv\")"
   ]
  },
  {
   "cell_type": "code",
   "execution_count": 17,
   "metadata": {},
   "outputs": [
    {
     "name": "stdout",
     "output_type": "stream",
     "text": [
      "(2000, 21)\n"
     ]
    }
   ],
   "source": [
    "print(dataset.shape)"
   ]
  },
  {
   "cell_type": "code",
   "execution_count": 18,
   "metadata": {
    "scrolled": true
   },
   "outputs": [
    {
     "data": {
      "text/html": [
       "<div>\n",
       "<style scoped>\n",
       "    .dataframe tbody tr th:only-of-type {\n",
       "        vertical-align: middle;\n",
       "    }\n",
       "\n",
       "    .dataframe tbody tr th {\n",
       "        vertical-align: top;\n",
       "    }\n",
       "\n",
       "    .dataframe thead th {\n",
       "        text-align: right;\n",
       "    }\n",
       "</style>\n",
       "<table border=\"1\" class=\"dataframe\">\n",
       "  <thead>\n",
       "    <tr style=\"text-align: right;\">\n",
       "      <th></th>\n",
       "      <th>battery_power</th>\n",
       "      <th>blue</th>\n",
       "      <th>clock_speed</th>\n",
       "      <th>dual_sim</th>\n",
       "      <th>fc</th>\n",
       "      <th>four_g</th>\n",
       "      <th>int_memory</th>\n",
       "      <th>m_dep</th>\n",
       "      <th>mobile_wt</th>\n",
       "      <th>n_cores</th>\n",
       "      <th>...</th>\n",
       "      <th>px_height</th>\n",
       "      <th>px_width</th>\n",
       "      <th>ram</th>\n",
       "      <th>sc_h</th>\n",
       "      <th>sc_w</th>\n",
       "      <th>talk_time</th>\n",
       "      <th>three_g</th>\n",
       "      <th>touch_screen</th>\n",
       "      <th>wifi</th>\n",
       "      <th>price_range</th>\n",
       "    </tr>\n",
       "  </thead>\n",
       "  <tbody>\n",
       "    <tr>\n",
       "      <th>0</th>\n",
       "      <td>842</td>\n",
       "      <td>0</td>\n",
       "      <td>2.2</td>\n",
       "      <td>0</td>\n",
       "      <td>1</td>\n",
       "      <td>0</td>\n",
       "      <td>7</td>\n",
       "      <td>0.6</td>\n",
       "      <td>188</td>\n",
       "      <td>2</td>\n",
       "      <td>...</td>\n",
       "      <td>20</td>\n",
       "      <td>756</td>\n",
       "      <td>2549</td>\n",
       "      <td>9</td>\n",
       "      <td>7</td>\n",
       "      <td>19</td>\n",
       "      <td>0</td>\n",
       "      <td>0</td>\n",
       "      <td>1</td>\n",
       "      <td>1</td>\n",
       "    </tr>\n",
       "    <tr>\n",
       "      <th>1</th>\n",
       "      <td>1021</td>\n",
       "      <td>1</td>\n",
       "      <td>0.5</td>\n",
       "      <td>1</td>\n",
       "      <td>0</td>\n",
       "      <td>1</td>\n",
       "      <td>53</td>\n",
       "      <td>0.7</td>\n",
       "      <td>136</td>\n",
       "      <td>3</td>\n",
       "      <td>...</td>\n",
       "      <td>905</td>\n",
       "      <td>1988</td>\n",
       "      <td>2631</td>\n",
       "      <td>17</td>\n",
       "      <td>3</td>\n",
       "      <td>7</td>\n",
       "      <td>1</td>\n",
       "      <td>1</td>\n",
       "      <td>0</td>\n",
       "      <td>2</td>\n",
       "    </tr>\n",
       "    <tr>\n",
       "      <th>2</th>\n",
       "      <td>563</td>\n",
       "      <td>1</td>\n",
       "      <td>0.5</td>\n",
       "      <td>1</td>\n",
       "      <td>2</td>\n",
       "      <td>1</td>\n",
       "      <td>41</td>\n",
       "      <td>0.9</td>\n",
       "      <td>145</td>\n",
       "      <td>5</td>\n",
       "      <td>...</td>\n",
       "      <td>1263</td>\n",
       "      <td>1716</td>\n",
       "      <td>2603</td>\n",
       "      <td>11</td>\n",
       "      <td>2</td>\n",
       "      <td>9</td>\n",
       "      <td>1</td>\n",
       "      <td>1</td>\n",
       "      <td>0</td>\n",
       "      <td>2</td>\n",
       "    </tr>\n",
       "    <tr>\n",
       "      <th>3</th>\n",
       "      <td>615</td>\n",
       "      <td>1</td>\n",
       "      <td>2.5</td>\n",
       "      <td>0</td>\n",
       "      <td>0</td>\n",
       "      <td>0</td>\n",
       "      <td>10</td>\n",
       "      <td>0.8</td>\n",
       "      <td>131</td>\n",
       "      <td>6</td>\n",
       "      <td>...</td>\n",
       "      <td>1216</td>\n",
       "      <td>1786</td>\n",
       "      <td>2769</td>\n",
       "      <td>16</td>\n",
       "      <td>8</td>\n",
       "      <td>11</td>\n",
       "      <td>1</td>\n",
       "      <td>0</td>\n",
       "      <td>0</td>\n",
       "      <td>2</td>\n",
       "    </tr>\n",
       "    <tr>\n",
       "      <th>4</th>\n",
       "      <td>1821</td>\n",
       "      <td>1</td>\n",
       "      <td>1.2</td>\n",
       "      <td>0</td>\n",
       "      <td>13</td>\n",
       "      <td>1</td>\n",
       "      <td>44</td>\n",
       "      <td>0.6</td>\n",
       "      <td>141</td>\n",
       "      <td>2</td>\n",
       "      <td>...</td>\n",
       "      <td>1208</td>\n",
       "      <td>1212</td>\n",
       "      <td>1411</td>\n",
       "      <td>8</td>\n",
       "      <td>2</td>\n",
       "      <td>15</td>\n",
       "      <td>1</td>\n",
       "      <td>1</td>\n",
       "      <td>0</td>\n",
       "      <td>1</td>\n",
       "    </tr>\n",
       "  </tbody>\n",
       "</table>\n",
       "<p>5 rows × 21 columns</p>\n",
       "</div>"
      ],
      "text/plain": [
       "   battery_power  blue  clock_speed  dual_sim  fc  four_g  int_memory  m_dep  \\\n",
       "0            842     0          2.2         0   1       0           7    0.6   \n",
       "1           1021     1          0.5         1   0       1          53    0.7   \n",
       "2            563     1          0.5         1   2       1          41    0.9   \n",
       "3            615     1          2.5         0   0       0          10    0.8   \n",
       "4           1821     1          1.2         0  13       1          44    0.6   \n",
       "\n",
       "   mobile_wt  n_cores  ...  px_height  px_width   ram  sc_h  sc_w  talk_time  \\\n",
       "0        188        2  ...         20       756  2549     9     7         19   \n",
       "1        136        3  ...        905      1988  2631    17     3          7   \n",
       "2        145        5  ...       1263      1716  2603    11     2          9   \n",
       "3        131        6  ...       1216      1786  2769    16     8         11   \n",
       "4        141        2  ...       1208      1212  1411     8     2         15   \n",
       "\n",
       "   three_g  touch_screen  wifi  price_range  \n",
       "0        0             0     1            1  \n",
       "1        1             1     0            2  \n",
       "2        1             1     0            2  \n",
       "3        1             0     0            2  \n",
       "4        1             1     0            1  \n",
       "\n",
       "[5 rows x 21 columns]"
      ]
     },
     "execution_count": 18,
     "metadata": {},
     "output_type": "execute_result"
    }
   ],
   "source": [
    "dataset.head()"
   ]
  },
  {
   "cell_type": "code",
   "execution_count": 19,
   "metadata": {
    "scrolled": true
   },
   "outputs": [
    {
     "name": "stdout",
     "output_type": "stream",
     "text": [
      "       battery_power       blue  clock_speed     dual_sim           fc  \\\n",
      "count    2000.000000  2000.0000  2000.000000  2000.000000  2000.000000   \n",
      "mean     1238.518500     0.4950     1.522250     0.509500     4.309500   \n",
      "std       439.418206     0.5001     0.816004     0.500035     4.341444   \n",
      "min       501.000000     0.0000     0.500000     0.000000     0.000000   \n",
      "25%       851.750000     0.0000     0.700000     0.000000     1.000000   \n",
      "50%      1226.000000     0.0000     1.500000     1.000000     3.000000   \n",
      "75%      1615.250000     1.0000     2.200000     1.000000     7.000000   \n",
      "max      1998.000000     1.0000     3.000000     1.000000    19.000000   \n",
      "\n",
      "            four_g   int_memory        m_dep    mobile_wt      n_cores  ...  \\\n",
      "count  2000.000000  2000.000000  2000.000000  2000.000000  2000.000000  ...   \n",
      "mean      0.521500    32.046500     0.501750   140.249000     4.520500  ...   \n",
      "std       0.499662    18.145715     0.288416    35.399655     2.287837  ...   \n",
      "min       0.000000     2.000000     0.100000    80.000000     1.000000  ...   \n",
      "25%       0.000000    16.000000     0.200000   109.000000     3.000000  ...   \n",
      "50%       1.000000    32.000000     0.500000   141.000000     4.000000  ...   \n",
      "75%       1.000000    48.000000     0.800000   170.000000     7.000000  ...   \n",
      "max       1.000000    64.000000     1.000000   200.000000     8.000000  ...   \n",
      "\n",
      "         px_height     px_width          ram         sc_h         sc_w  \\\n",
      "count  2000.000000  2000.000000  2000.000000  2000.000000  2000.000000   \n",
      "mean    645.108000  1251.515500  2124.213000    12.306500     5.767000   \n",
      "std     443.780811   432.199447  1084.732044     4.213245     4.356398   \n",
      "min       0.000000   500.000000   256.000000     5.000000     0.000000   \n",
      "25%     282.750000   874.750000  1207.500000     9.000000     2.000000   \n",
      "50%     564.000000  1247.000000  2146.500000    12.000000     5.000000   \n",
      "75%     947.250000  1633.000000  3064.500000    16.000000     9.000000   \n",
      "max    1960.000000  1998.000000  3998.000000    19.000000    18.000000   \n",
      "\n",
      "         talk_time      three_g  touch_screen         wifi  price_range  \n",
      "count  2000.000000  2000.000000   2000.000000  2000.000000  2000.000000  \n",
      "mean     11.011000     0.761500      0.503000     0.507000     1.500000  \n",
      "std       5.463955     0.426273      0.500116     0.500076     1.118314  \n",
      "min       2.000000     0.000000      0.000000     0.000000     0.000000  \n",
      "25%       6.000000     1.000000      0.000000     0.000000     0.750000  \n",
      "50%      11.000000     1.000000      1.000000     1.000000     1.500000  \n",
      "75%      16.000000     1.000000      1.000000     1.000000     2.250000  \n",
      "max      20.000000     1.000000      1.000000     1.000000     3.000000  \n",
      "\n",
      "[8 rows x 21 columns]\n"
     ]
    }
   ],
   "source": [
    "print(dataset.describe())"
   ]
  },
  {
   "cell_type": "code",
   "execution_count": 20,
   "metadata": {
    "scrolled": true
   },
   "outputs": [
    {
     "name": "stdout",
     "output_type": "stream",
     "text": [
      "price_range\n",
      "0    500\n",
      "1    500\n",
      "2    500\n",
      "3    500\n",
      "dtype: int64\n"
     ]
    }
   ],
   "source": [
    "print(dataset.groupby(\"price_range\").size())"
   ]
  },
  {
   "cell_type": "code",
   "execution_count": 21,
   "metadata": {},
   "outputs": [],
   "source": [
    "# Setting some parameters and splitting dataset\n",
    "array=dataset.values\n",
    "X,Y=array[:,:-1],array[:,-1]\n",
    "validation_size=0.10\n",
    "r_s=6\n",
    "scoring=\"accuracy\"\n",
    "x_train,x_test,y_train,y_test=model_selection.train_test_split(X,Y,test_size=validation_size,random_state=r_s)"
   ]
  },
  {
   "cell_type": "code",
   "execution_count": 22,
   "metadata": {
    "scrolled": false
   },
   "outputs": [
    {
     "name": "stdout",
     "output_type": "stream",
     "text": [
      "Name : LR and Accuracy : 0.635\n",
      "Name : LDA and Accuracy : 0.935\n",
      "Name : KNN and Accuracy : 0.925\n",
      "Name : CART and Accuracy : 0.815\n",
      "Name : NB and Accuracy : 0.795\n",
      "Name : SVM and Accuracy : 0.925\n"
     ]
    },
    {
     "name": "stderr",
     "output_type": "stream",
     "text": [
      "C:\\Users\\ASUS\\Anaconda3\\envs\\new\\lib\\site-packages\\sklearn\\linear_model\\_logistic.py:940: ConvergenceWarning: lbfgs failed to converge (status=1):\n",
      "STOP: TOTAL NO. of ITERATIONS REACHED LIMIT.\n",
      "\n",
      "Increase the number of iterations (max_iter) or scale the data as shown in:\n",
      "    https://scikit-learn.org/stable/modules/preprocessing.html\n",
      "Please also refer to the documentation for alternative solver options:\n",
      "    https://scikit-learn.org/stable/modules/linear_model.html#logistic-regression\n",
      "  extra_warning_msg=_LOGISTIC_SOLVER_CONVERGENCE_MSG)\n"
     ]
    }
   ],
   "source": [
    "# Checking accuracy on different types of classification machine learning algorithms\n",
    "models=[]\n",
    "models.append(('LR',LogisticRegression()))\n",
    "models.append(('LDA',LinearDiscriminantAnalysis()))\n",
    "models.append(('KNN',KNeighborsClassifier()))\n",
    "models.append(('CART',DecisionTreeClassifier()))\n",
    "models.append(('NB',GaussianNB()))\n",
    "models.append(('SVM',SVC()))\n",
    "results=[]\n",
    "names=[]\n",
    "for name,model in models:\n",
    "    model.fit(x_train,y_train)\n",
    "    print(\"Name :\",name,\"and Accuracy :\",model.score(x_test,y_test))"
   ]
  },
  {
   "cell_type": "markdown",
   "metadata": {},
   "source": [
    "__Note: Here we used 3 layers of deep learning with 2 hidden layers__\n",
    "\n",
    "\n",
    "__Result: It is clear that deep learning algorithm is giving more accurate result than any of the machine learning algorithm__"
   ]
  }
 ],
 "metadata": {
  "kernelspec": {
   "display_name": "Python 3",
   "language": "python",
   "name": "python3"
  },
  "language_info": {
   "codemirror_mode": {
    "name": "ipython",
    "version": 3
   },
   "file_extension": ".py",
   "mimetype": "text/x-python",
   "name": "python",
   "nbconvert_exporter": "python",
   "pygments_lexer": "ipython3",
   "version": "3.7.6"
  }
 },
 "nbformat": 4,
 "nbformat_minor": 4
}
